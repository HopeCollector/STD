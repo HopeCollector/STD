{
 "cells": [
  {
   "cell_type": "markdown",
   "metadata": {},
   "source": [
    "### Prob 1. STDescManager::extract_corner\n",
    "\n",
    "点投影到平面\n",
    "\n",
    "```cpp\n",
    "Eigen::Vector3d cur_project;\n",
    "cur_project[0] = (-A * (B * y + C * z + D) + x * (B * B + C * C)) /\n",
    "                    (A * A + B * B + C * C);\n",
    "cur_project[1] = (-B * (A * x + C * z + D) + y * (A * A + C * C)) /\n",
    "                    (A * A + B * B + C * C);\n",
    "cur_project[2] = (-C * (A * x + B * y + D) + z * (A * A + B * B)) /\n",
    "                    (A * A + B * B + C * C);\n",
    "```"
   ]
  },
  {
   "cell_type": "code",
   "execution_count": 1,
   "metadata": {},
   "outputs": [],
   "source": [
    "from sympy import *"
   ]
  },
  {
   "cell_type": "code",
   "execution_count": 22,
   "metadata": {},
   "outputs": [],
   "source": [
    "A, B, C, D = symbols('A B C D')\n",
    "cx, cy, cz = symbols('cx cy cz')\n",
    "x, y, z = symbols('x y z')\n",
    "t = symbols('t')"
   ]
  },
  {
   "cell_type": "code",
   "execution_count": 35,
   "metadata": {},
   "outputs": [],
   "source": [
    "plane = Matrix([A, B, C])\n",
    "plane_norm = Matrix([A, B, C]) / Matrix([A, B, C]).norm()\n",
    "plane_center = Matrix([cx, cy, cz])\n",
    "point = Matrix([x, y, z])"
   ]
  },
  {
   "cell_type": "code",
   "execution_count": 25,
   "metadata": {},
   "outputs": [],
   "source": [
    "proj_point = t * plane_norm + point"
   ]
  },
  {
   "cell_type": "code",
   "execution_count": 36,
   "metadata": {},
   "outputs": [],
   "source": [
    "res = solve([plane.dot(proj_point) + D], [t])"
   ]
  },
  {
   "cell_type": "code",
   "execution_count": 37,
   "metadata": {},
   "outputs": [],
   "source": [
    "pp = proj_point.subs(t, res[t])"
   ]
  },
  {
   "cell_type": "code",
   "execution_count": 38,
   "metadata": {},
   "outputs": [
    {
     "data": {
      "text/latex": [
       "$\\displaystyle \\frac{- A B y - A C z - A D + B^{2} x + C^{2} x}{A^{2} + B^{2} + C^{2}}$"
      ],
      "text/plain": [
       "(-A*B*y - A*C*z - A*D + B**2*x + C**2*x)/(A**2 + B**2 + C**2)"
      ]
     },
     "execution_count": 38,
     "metadata": {},
     "output_type": "execute_result"
    }
   ],
   "source": [
    "simplify(pp[0])"
   ]
  },
  {
   "cell_type": "code",
   "execution_count": 39,
   "metadata": {},
   "outputs": [
    {
     "data": {
      "text/latex": [
       "$\\displaystyle \\frac{A^{2} y - A B x - B C z - B D + C^{2} y}{A^{2} + B^{2} + C^{2}}$"
      ],
      "text/plain": [
       "(A**2*y - A*B*x - B*C*z - B*D + C**2*y)/(A**2 + B**2 + C**2)"
      ]
     },
     "execution_count": 39,
     "metadata": {},
     "output_type": "execute_result"
    }
   ],
   "source": [
    "simplify(pp[1])"
   ]
  },
  {
   "cell_type": "code",
   "execution_count": 40,
   "metadata": {},
   "outputs": [
    {
     "data": {
      "text/latex": [
       "$\\displaystyle \\frac{A^{2} z - A C x + B^{2} z - B C y - C D}{A^{2} + B^{2} + C^{2}}$"
      ],
      "text/plain": [
       "(A**2*z - A*C*x + B**2*z - B*C*y - C*D)/(A**2 + B**2 + C**2)"
      ]
     },
     "execution_count": 40,
     "metadata": {},
     "output_type": "execute_result"
    }
   ],
   "source": [
    "simplify(pp[2])"
   ]
  },
  {
   "cell_type": "markdown",
   "metadata": {},
   "source": [
    "### Prob 2. STDescManager::corner_extractor\n",
    "\n",
    "近似法向量判定\n",
    "\n",
    "```cpp\n",
    "Eigen::Vector3d normal_diff = projection_normal - normal;\n",
    "Eigen::Vector3d normal_add = projection_normal + normal;\n",
    "if (normal_diff.norm() < 0.5 || normal_add.norm() < 0.5) {\n",
    "    skip_flag = true;\n",
    "}\n",
    "\n",
    "```"
   ]
  },
  {
   "cell_type": "code",
   "execution_count": 8,
   "metadata": {},
   "outputs": [],
   "source": [
    "theta, d = symbols(\"theta, d\", real=True)"
   ]
  },
  {
   "cell_type": "code",
   "execution_count": 9,
   "metadata": {},
   "outputs": [],
   "source": [
    "x_norm = Matrix([1.0, 0.0, 0.0])\n",
    "near_norm = Matrix([cos(theta), sin(theta), 0.0])"
   ]
  },
  {
   "cell_type": "code",
   "execution_count": 10,
   "metadata": {},
   "outputs": [],
   "source": [
    "res = solve([(x_norm - near_norm).norm() - d], [theta])"
   ]
  },
  {
   "cell_type": "code",
   "execution_count": 19,
   "metadata": {},
   "outputs": [
    {
     "data": {
      "text/latex": [
       "$\\displaystyle -28.9550248657793$"
      ],
      "text/plain": [
       "-28.9550248657793"
      ]
     },
     "execution_count": 19,
     "metadata": {},
     "output_type": "execute_result"
    }
   ],
   "source": [
    "res[0][0].subs(d, 0.5) / 3.1415926 * 180.0"
   ]
  },
  {
   "cell_type": "code",
   "execution_count": 21,
   "metadata": {},
   "outputs": [
    {
     "data": {
      "text/latex": [
       "$\\displaystyle 28.9550248657793$"
      ],
      "text/plain": [
       "28.9550248657793"
      ]
     },
     "execution_count": 21,
     "metadata": {},
     "output_type": "execute_result"
    }
   ],
   "source": [
    "res[1][0].subs(d, 0.5) / 3.1415926 * 180.0"
   ]
  },
  {
   "cell_type": "markdown",
   "metadata": {},
   "source": [
    "## Prob 3. STDescManager::candidate_selector\n",
    "\n",
    "**可搜索空间**\n",
    "\n",
    "分析 thr 对可搜索空间的大小有怎样的影响\n",
    "\n",
    "下面的代码需要放在单独的脚本运行，因为生成的图象是 3d 图像，jupyter 中画出来的不可交互\n",
    "\n",
    "```cpp\n",
    "double thr = 1.5;\n",
    "position.x = (int)(src_std.side_length_[0] + voxel_inc[0]);\n",
    "position.y = (int)(src_std.side_length_[1] + voxel_inc[1]);\n",
    "position.z = (int)(src_std.side_length_[2] + voxel_inc[2]);\n",
    "Eigen::Vector3d voxel_center(\n",
    "    (double)position.x + 0.5,\n",
    "    (double)position.y + 0.5,\n",
    "    (double)position.z + 0.5\n",
    ");\n",
    "if ((src_std.side_length_ - voxel_center).norm() < thr) {}\n",
    "\n",
    "```"
   ]
  },
  {
   "cell_type": "code",
   "execution_count": 22,
   "metadata": {},
   "outputs": [],
   "source": [
    "import matplotlib.pyplot as plt\n",
    "import numpy as np\n",
    "import itertools"
   ]
  },
  {
   "cell_type": "code",
   "execution_count": 44,
   "metadata": {},
   "outputs": [],
   "source": [
    "side_lengths = np.array(list(itertools.product([0.25, 0.75], repeat=3)))"
   ]
  },
  {
   "cell_type": "code",
   "execution_count": 60,
   "metadata": {},
   "outputs": [],
   "source": [
    "thr = 1.5\n",
    "voxel_centerss = []\n",
    "\n",
    "for side_length in side_lengths:\n",
    "    voxel_centers = [side_length]\n",
    "    for search_dir in itertools.product([-1, 0, 1], repeat=3):\n",
    "        position = side_length.astype(int) + np.asarray(search_dir)\n",
    "        voxel_center = position.astype(float) + 0.5\n",
    "        if np.linalg.norm(side_length - voxel_center) < thr:\n",
    "            voxel_centers.append(voxel_center)\n",
    "    voxel_centerss.append(voxel_centers)\n",
    "            "
   ]
  },
  {
   "cell_type": "code",
   "execution_count": 61,
   "metadata": {},
   "outputs": [
    {
     "name": "stdout",
     "output_type": "stream",
     "text": [
      "[array([-0.75, -0.75, -0.75])]\n"
     ]
    }
   ],
   "source": [
    "fig, axs = plt.subplots(2, 4, figsize=(10, 10), subplot_kw={'projection': '3d'})\n",
    "for ax, voxel_centers in zip(axs.flatten(), voxel_centerss):\n",
    "    ax.set_xlim(-1, 2)\n",
    "    ax.set_ylim(-1, 2)\n",
    "    ax.set_zlim(-1, 2)\n",
    "    ax.set_xlabel('X')\n",
    "    ax.set_ylabel('Y')\n",
    "    ax.set_zlabel('Z')\n",
    "    ax.set_title(f'{voxel_centers[0]}')\n",
    "    ax.scatter(*np.array(voxel_centers[1:]).T, c='blue', alpha=0.5)\n",
    "    ax.scatter(*np.array(voxel_centers[0]).T, c='green', alpha=1)\n",
    "plt.show()"
   ]
  },
  {
   "cell_type": "markdown",
   "metadata": {},
   "source": [
    "## Prob 4. STDescManager::triangle_solver\n",
    "\n",
    "分析 ICP 的数学原理\n",
    "\n",
    "```cpp\n",
    "Eigen::Matrix3d src = Eigen::Matrix3d::Zero();\n",
    "Eigen::Matrix3d ref = Eigen::Matrix3d::Zero();\n",
    "src.col(0) = std_pair.first.vertex_A_ - std_pair.first.center_;\n",
    "src.col(1) = std_pair.first.vertex_B_ - std_pair.first.center_;\n",
    "src.col(2) = std_pair.first.vertex_C_ - std_pair.first.center_;\n",
    "ref.col(0) = std_pair.second.vertex_A_ - std_pair.second.center_;\n",
    "ref.col(1) = std_pair.second.vertex_B_ - std_pair.second.center_;\n",
    "ref.col(2) = std_pair.second.vertex_C_ - std_pair.second.center_;\n",
    "Eigen::Matrix3d covariance = src * ref.transpose();\n",
    "Eigen::JacobiSVD<Eigen::MatrixXd> svd(covariance, Eigen::ComputeThinU |\n",
    "                                                    Eigen::ComputeThinV);\n",
    "Eigen::Matrix3d V = svd.matrixV();\n",
    "Eigen::Matrix3d U = svd.matrixU();\n",
    "rot = V * U.transpose();\n",
    "if (rot.determinant() < 0) {\n",
    "Eigen::Matrix3d K;\n",
    "K << 1, 0, 0, 0, 1, 0, 0, 0, -1;\n",
    "rot = V * K * U.transpose();\n",
    "}\n",
    "t = -rot * std_pair.first.center_ + std_pair.second.center_;\n",
    "```"
   ]
  },
  {
   "cell_type": "code",
   "execution_count": 1,
   "metadata": {},
   "outputs": [],
   "source": [
    "import sympy as sp"
   ]
  },
  {
   "cell_type": "markdown",
   "metadata": {},
   "source": [
    "#### 问题描述\n",
    "\n",
    "在 $d$ 维空间中，存在两个点集 $P=\\{p_1, ..., p_n\\}$ $Q=\\{q_1, ..., q_n\\}$，其中 $p_i$ 与 $q_i$ 对应\n",
    "\n",
    "我们希望找到一个旋转矩阵 $R$ 和一个平移向量 $t$ ，满足对齐后的所有点距离的加权平方和最小\n",
    "\n",
    "$$\n",
    "(R, t) = \\underset{R\\in SO(d), t \\in \\mathbb{R}^d}{\\mathrm{argmin}} \\sum^{n}_{i=1}\\|(Rp_i + t) - q_i\\|^2\n",
    "$$"
   ]
  },
  {
   "cell_type": "code",
   "execution_count": 2,
   "metadata": {},
   "outputs": [],
   "source": [
    "p = sp.MatrixSymbol('p', 3, 1)\n",
    "q = sp.MatrixSymbol('q', 3, 1)\n",
    "R = sp.MatrixSymbol('R', 3, 3)\n",
    "t = sp.MatrixSymbol('t', 3, 1)\n",
    "f = sp.Function('f')(t)\n",
    "\n",
    "## 代价函数求和符号中的其中一项\n",
    "cost_vec = R @ p + t - q\n",
    "f = cost_vec.T @ cost_vec"
   ]
  },
  {
   "cell_type": "markdown",
   "metadata": {},
   "source": [
    "首先处理平移向量 $t$，将代价函数看作是 $t$ 的函数，对其求一阶导，然后令导数为零，解出 t\n",
    "\n",
    "对代价函数求和符号中的一项求导"
   ]
  },
  {
   "cell_type": "code",
   "execution_count": 3,
   "metadata": {},
   "outputs": [
    {
     "data": {
      "text/latex": [
       "$\\displaystyle 2 R p - 2 q + 2 t$"
      ],
      "text/plain": [
       "2*R*p - 2*q + 2*t"
      ]
     },
     "execution_count": 3,
     "metadata": {},
     "output_type": "execute_result"
    }
   ],
   "source": [
    "f.diff(t)"
   ]
  },
  {
   "cell_type": "markdown",
   "metadata": {},
   "source": [
    "如此，我们可以轻松的得到完整的表达式\n",
    "\n",
    "$$\n",
    "\\frac{df}{dt} = 2nt + 2R\\sum^n_i p_i - 2\\sum^n_i q_i\n",
    "$$\n",
    "\n",
    "将点求和的部分换成 **中心点 * n** 的形式去掉求和符号，得到\n",
    "\n",
    "$$\n",
    "\\frac{df}{dt} = 2nt + 2nR\\bar{p} - 2n\\bar{q}\n",
    "$$\n",
    "\n",
    "其中 $\\bar{p}$，$\\bar{q}$ 分别是点云 $P$ 和 $Q$ 的中心点\n",
    "\n",
    "这样就能得到 t 的表达式\n",
    "\n",
    "$$\n",
    "t = \\bar{q} - R\\bar{p}\n",
    "$$\n",
    "\n",
    "将 $t$ 带入上面的残差方程得到\n",
    "\n"
   ]
  },
  {
   "cell_type": "code",
   "execution_count": 23,
   "metadata": {},
   "outputs": [
    {
     "data": {
      "text/latex": [
       "$\\displaystyle - R \\bar{p} + R p + \\bar{q} - q$"
      ],
      "text/plain": [
       "-R*\\bar{p} + R*p + \\bar{q} - q"
      ]
     },
     "execution_count": 23,
     "metadata": {},
     "output_type": "execute_result"
    }
   ],
   "source": [
    "p_bar = sp.MatrixSymbol(\"\\\\bar{p}\", 3, 1)\n",
    "q_bar = sp.MatrixSymbol(\"\\\\bar{q}\", 3, 1)\n",
    "\n",
    "\n",
    "cost_vec.subs(t, q_bar - R @ p_bar).expand()\n"
   ]
  },
  {
   "cell_type": "markdown",
   "metadata": {},
   "source": [
    "使用 $x_i$, $y_i$ 替换 $p - \\bar{p}$, $q - \\bar{q}$ ，我们将得到\n",
    "\n",
    "$$\n",
    "R = \\underset{R\\in SO(d)}{\\mathrm{argmin}} \\sum^{n}_{i=1}\\|Rx_i - y_i\\|^2\n",
    "$$\n",
    "\n",
    "对求和项进行如下化简"
   ]
  },
  {
   "cell_type": "code",
   "execution_count": 28,
   "metadata": {},
   "outputs": [
    {
     "data": {
      "text/latex": [
       "$\\displaystyle x^{T} R^{T} R x - x^{T} R^{T} y - y^{T} R x + y^{T} y$"
      ],
      "text/plain": [
       "x.T*R.T*R*x - x.T*R.T*y - y.T*R*x + y.T*y"
      ]
     },
     "execution_count": 28,
     "metadata": {},
     "output_type": "execute_result"
    }
   ],
   "source": [
    "x = sp.MatrixSymbol('x', 3, 1)\n",
    "y = sp.MatrixSymbol('y', 3, 1)\n",
    "\n",
    "cost_vec = R @ x - y\n",
    "f = (cost_vec.T @ cost_vec).expand()\n",
    "f"
   ]
  },
  {
   "cell_type": "code",
   "execution_count": 33,
   "metadata": {},
   "outputs": [
    {
     "data": {
      "text/latex": [
       "$\\displaystyle x^{T} x - y^{T} R x - y^{T} R x + y^{T} y$"
      ],
      "text/plain": [
       "x.T*x - y.T*R*x - y.T*R*x + y.T*y"
      ]
     },
     "execution_count": 33,
     "metadata": {},
     "output_type": "execute_result"
    }
   ],
   "source": [
    "# R^TR = I\n",
    "f = f.subs(R.T @ R, sp.eye(3))\n",
    "f"
   ]
  },
  {
   "cell_type": "code",
   "execution_count": 34,
   "metadata": {},
   "outputs": [
    {
     "data": {
      "text/latex": [
       "$\\displaystyle x^{T} x - y^{T} R x - y^{T} R x + y^{T} y$"
      ],
      "text/plain": [
       "x.T*x - y.T*R*x - y.T*R*x + y.T*y"
      ]
     },
     "execution_count": 34,
     "metadata": {},
     "output_type": "execute_result"
    }
   ],
   "source": [
    "# 这是一个标量 -> x^T R^T y = (y^T R x)^T\n",
    "f = f.subs(x.T @ R.T @ y, y.T @ R @ x).simplify()\n",
    "f"
   ]
  },
  {
   "cell_type": "markdown",
   "metadata": {},
   "source": [
    "这样目标函数就能简化为\n",
    "\n",
    "$$\n",
    "R = \\underset{R\\in SO(d)}{\\mathrm{argmax}} \\sum^{n}_{i=1}(y^T_i R x_i)^2\n",
    "$$\n",
    "\n",
    "想到矩阵的 **迹** 是对角元素的和，那么我们完全可以将上述方程改造成矩阵乘法求迹的形式，\n",
    "完全规避求和符号的干扰\n",
    "\n",
    "$$\n",
    "R = \\underset{R\\in SO(d)}{\\mathrm{argmax}} \\  tr (Y^T R X)\n",
    "$$\n",
    "\n",
    "其中\n",
    "\n",
    "$$\n",
    "Y^T = \\begin{bmatrix}\n",
    "y^T_1 \\\\\n",
    "... \\\\\n",
    "y^T_n\n",
    "\\end{bmatrix}\n",
    "$$\n",
    "\n",
    "$$\n",
    "X = \\begin{bmatrix}\n",
    "x_1 & ... & x_n \\\\\n",
    "\\end{bmatrix}\n",
    "$$\n",
    "\n",
    "这样就可以应用迹的性质对上式进行化简 [$tr(AB) = tr(BA)$](https://zh.wikipedia.org/zh-hans/%E8%B7%A1#%E7%9F%A9%E9%98%B5%E4%B9%98%E7%A7%AF%E7%9A%84%E8%BF%B9%E6%95%B0)\n",
    "\n",
    "$$\n",
    "R = \\underset{R\\in SO(d)}{\\mathrm{argmax}} \\  tr (R X Y^T)\n",
    "$$\n",
    "\n",
    "再对 $X Y^T$ 进行分解得到 $X Y^T = U \\Sigma V^T$，得到\n",
    "\n",
    "$$\n",
    "tr (R X Y^T) = tr(R U \\Sigma V^T) = tr(\\Sigma V^T R U)\n",
    "$$\n",
    "\n",
    "因为 $V$ $R$ $U$ 都是正交矩阵，因此他们的乘积仍然是正交矩阵，而[正交矩阵所有元素都小于1](https://math.stackexchange.com/a/3285427)\n",
    "\n",
    "因此，为了最大化迹的结果，让 $V^T R U$ 的结果是单位矩阵就是最优结果，这样我们就得到了 R\n",
    "的表达式\n",
    "\n",
    "$$\n",
    "\\begin{aligned}\n",
    "I &= V^T R U \\\\\n",
    "R &= V U^T\n",
    "\\end{aligned}\n",
    "$$\n",
    "\n",
    "由于反射矩阵和旋转矩阵都是正交矩阵，因此需要检测 $R$ 的行列式是否为整数，若为负数则需要\n",
    "反转旋转矩阵，让其行列式变为正数，这种情况只有在匹配点处于同一平面上才会出现，恰好是我们\n",
    "现在要处理的三角形匹配问题，关于这个问题的讨论参见 [此论文](https://www.math.pku.edu.cn/teachers/yaoy/Fall2011/arun.pdf)\n",
    "\n",
    "简单来说就是，所有点共面时，第三个奇异值为 0，对这个奇异值对应的特征向量随意反转都不会影响\n",
    "分解的正确性，只会影响行列式的结果"
   ]
  }
 ],
 "metadata": {
  "kernelspec": {
   "display_name": "slam",
   "language": "python",
   "name": "python3"
  },
  "language_info": {
   "codemirror_mode": {
    "name": "ipython",
    "version": 3
   },
   "file_extension": ".py",
   "mimetype": "text/x-python",
   "name": "python",
   "nbconvert_exporter": "python",
   "pygments_lexer": "ipython3",
   "version": "3.10.14"
  }
 },
 "nbformat": 4,
 "nbformat_minor": 2
}
